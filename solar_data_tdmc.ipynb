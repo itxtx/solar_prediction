{
 "cells": [
  {
   "cell_type": "code",
   "execution_count": 1,
   "metadata": {},
   "outputs": [],
   "source": [
    "import numpy as np\n",
    "import pandas as pd\n",
    "import matplotlib.pyplot as plt\n",
    "import seaborn as sns\n",
    "import torch\n",
    "import torch.nn as nn\n",
    "import torch.optim as optim\n",
    "import data_prep\n",
    "import warnings\n",
    "warnings.filterwarnings(\"ignore\", category=UserWarning)"
   ]
  },
  {
   "cell_type": "code",
   "execution_count": 2,
   "metadata": {},
   "outputs": [
    {
     "data": {
      "text/html": [
       "<div>\n",
       "<style scoped>\n",
       "    .dataframe tbody tr th:only-of-type {\n",
       "        vertical-align: middle;\n",
       "    }\n",
       "\n",
       "    .dataframe tbody tr th {\n",
       "        vertical-align: top;\n",
       "    }\n",
       "\n",
       "    .dataframe thead th {\n",
       "        text-align: right;\n",
       "    }\n",
       "</style>\n",
       "<table border=\"1\" class=\"dataframe\">\n",
       "  <thead>\n",
       "    <tr style=\"text-align: right;\">\n",
       "      <th></th>\n",
       "      <th>UNIXTime</th>\n",
       "      <th>Data</th>\n",
       "      <th>Time</th>\n",
       "      <th>Radiation</th>\n",
       "      <th>Temperature</th>\n",
       "      <th>Pressure</th>\n",
       "      <th>Humidity</th>\n",
       "      <th>WindDirection(Degrees)</th>\n",
       "      <th>Speed</th>\n",
       "      <th>TimeSunRise</th>\n",
       "      <th>TimeSunSet</th>\n",
       "    </tr>\n",
       "  </thead>\n",
       "  <tbody>\n",
       "    <tr>\n",
       "      <th>0</th>\n",
       "      <td>1475229326</td>\n",
       "      <td>9/29/2016 12:00:00 AM</td>\n",
       "      <td>23:55:26</td>\n",
       "      <td>1.21</td>\n",
       "      <td>48</td>\n",
       "      <td>30.46</td>\n",
       "      <td>59</td>\n",
       "      <td>177.39</td>\n",
       "      <td>5.62</td>\n",
       "      <td>06:13:00</td>\n",
       "      <td>18:13:00</td>\n",
       "    </tr>\n",
       "    <tr>\n",
       "      <th>1</th>\n",
       "      <td>1475229023</td>\n",
       "      <td>9/29/2016 12:00:00 AM</td>\n",
       "      <td>23:50:23</td>\n",
       "      <td>1.21</td>\n",
       "      <td>48</td>\n",
       "      <td>30.46</td>\n",
       "      <td>58</td>\n",
       "      <td>176.78</td>\n",
       "      <td>3.37</td>\n",
       "      <td>06:13:00</td>\n",
       "      <td>18:13:00</td>\n",
       "    </tr>\n",
       "    <tr>\n",
       "      <th>2</th>\n",
       "      <td>1475228726</td>\n",
       "      <td>9/29/2016 12:00:00 AM</td>\n",
       "      <td>23:45:26</td>\n",
       "      <td>1.23</td>\n",
       "      <td>48</td>\n",
       "      <td>30.46</td>\n",
       "      <td>57</td>\n",
       "      <td>158.75</td>\n",
       "      <td>3.37</td>\n",
       "      <td>06:13:00</td>\n",
       "      <td>18:13:00</td>\n",
       "    </tr>\n",
       "    <tr>\n",
       "      <th>3</th>\n",
       "      <td>1475228421</td>\n",
       "      <td>9/29/2016 12:00:00 AM</td>\n",
       "      <td>23:40:21</td>\n",
       "      <td>1.21</td>\n",
       "      <td>48</td>\n",
       "      <td>30.46</td>\n",
       "      <td>60</td>\n",
       "      <td>137.71</td>\n",
       "      <td>3.37</td>\n",
       "      <td>06:13:00</td>\n",
       "      <td>18:13:00</td>\n",
       "    </tr>\n",
       "    <tr>\n",
       "      <th>4</th>\n",
       "      <td>1475228124</td>\n",
       "      <td>9/29/2016 12:00:00 AM</td>\n",
       "      <td>23:35:24</td>\n",
       "      <td>1.17</td>\n",
       "      <td>48</td>\n",
       "      <td>30.46</td>\n",
       "      <td>62</td>\n",
       "      <td>104.95</td>\n",
       "      <td>5.62</td>\n",
       "      <td>06:13:00</td>\n",
       "      <td>18:13:00</td>\n",
       "    </tr>\n",
       "    <tr>\n",
       "      <th>...</th>\n",
       "      <td>...</td>\n",
       "      <td>...</td>\n",
       "      <td>...</td>\n",
       "      <td>...</td>\n",
       "      <td>...</td>\n",
       "      <td>...</td>\n",
       "      <td>...</td>\n",
       "      <td>...</td>\n",
       "      <td>...</td>\n",
       "      <td>...</td>\n",
       "      <td>...</td>\n",
       "    </tr>\n",
       "    <tr>\n",
       "      <th>32681</th>\n",
       "      <td>1480587604</td>\n",
       "      <td>12/1/2016 12:00:00 AM</td>\n",
       "      <td>00:20:04</td>\n",
       "      <td>1.22</td>\n",
       "      <td>44</td>\n",
       "      <td>30.43</td>\n",
       "      <td>102</td>\n",
       "      <td>145.42</td>\n",
       "      <td>6.75</td>\n",
       "      <td>06:41:00</td>\n",
       "      <td>17:42:00</td>\n",
       "    </tr>\n",
       "    <tr>\n",
       "      <th>32682</th>\n",
       "      <td>1480587301</td>\n",
       "      <td>12/1/2016 12:00:00 AM</td>\n",
       "      <td>00:15:01</td>\n",
       "      <td>1.17</td>\n",
       "      <td>44</td>\n",
       "      <td>30.42</td>\n",
       "      <td>102</td>\n",
       "      <td>117.78</td>\n",
       "      <td>6.75</td>\n",
       "      <td>06:41:00</td>\n",
       "      <td>17:42:00</td>\n",
       "    </tr>\n",
       "    <tr>\n",
       "      <th>32683</th>\n",
       "      <td>1480587001</td>\n",
       "      <td>12/1/2016 12:00:00 AM</td>\n",
       "      <td>00:10:01</td>\n",
       "      <td>1.20</td>\n",
       "      <td>44</td>\n",
       "      <td>30.42</td>\n",
       "      <td>102</td>\n",
       "      <td>145.19</td>\n",
       "      <td>9.00</td>\n",
       "      <td>06:41:00</td>\n",
       "      <td>17:42:00</td>\n",
       "    </tr>\n",
       "    <tr>\n",
       "      <th>32684</th>\n",
       "      <td>1480586702</td>\n",
       "      <td>12/1/2016 12:00:00 AM</td>\n",
       "      <td>00:05:02</td>\n",
       "      <td>1.23</td>\n",
       "      <td>44</td>\n",
       "      <td>30.42</td>\n",
       "      <td>101</td>\n",
       "      <td>164.19</td>\n",
       "      <td>7.87</td>\n",
       "      <td>06:41:00</td>\n",
       "      <td>17:42:00</td>\n",
       "    </tr>\n",
       "    <tr>\n",
       "      <th>32685</th>\n",
       "      <td>1480586402</td>\n",
       "      <td>12/1/2016 12:00:00 AM</td>\n",
       "      <td>00:00:02</td>\n",
       "      <td>1.20</td>\n",
       "      <td>44</td>\n",
       "      <td>30.43</td>\n",
       "      <td>101</td>\n",
       "      <td>83.59</td>\n",
       "      <td>3.37</td>\n",
       "      <td>06:41:00</td>\n",
       "      <td>17:42:00</td>\n",
       "    </tr>\n",
       "  </tbody>\n",
       "</table>\n",
       "<p>32686 rows × 11 columns</p>\n",
       "</div>"
      ],
      "text/plain": [
       "         UNIXTime                   Data      Time  Radiation  Temperature  \\\n",
       "0      1475229326  9/29/2016 12:00:00 AM  23:55:26       1.21           48   \n",
       "1      1475229023  9/29/2016 12:00:00 AM  23:50:23       1.21           48   \n",
       "2      1475228726  9/29/2016 12:00:00 AM  23:45:26       1.23           48   \n",
       "3      1475228421  9/29/2016 12:00:00 AM  23:40:21       1.21           48   \n",
       "4      1475228124  9/29/2016 12:00:00 AM  23:35:24       1.17           48   \n",
       "...           ...                    ...       ...        ...          ...   \n",
       "32681  1480587604  12/1/2016 12:00:00 AM  00:20:04       1.22           44   \n",
       "32682  1480587301  12/1/2016 12:00:00 AM  00:15:01       1.17           44   \n",
       "32683  1480587001  12/1/2016 12:00:00 AM  00:10:01       1.20           44   \n",
       "32684  1480586702  12/1/2016 12:00:00 AM  00:05:02       1.23           44   \n",
       "32685  1480586402  12/1/2016 12:00:00 AM  00:00:02       1.20           44   \n",
       "\n",
       "       Pressure  Humidity  WindDirection(Degrees)  Speed TimeSunRise  \\\n",
       "0         30.46        59                  177.39   5.62    06:13:00   \n",
       "1         30.46        58                  176.78   3.37    06:13:00   \n",
       "2         30.46        57                  158.75   3.37    06:13:00   \n",
       "3         30.46        60                  137.71   3.37    06:13:00   \n",
       "4         30.46        62                  104.95   5.62    06:13:00   \n",
       "...         ...       ...                     ...    ...         ...   \n",
       "32681     30.43       102                  145.42   6.75    06:41:00   \n",
       "32682     30.42       102                  117.78   6.75    06:41:00   \n",
       "32683     30.42       102                  145.19   9.00    06:41:00   \n",
       "32684     30.42       101                  164.19   7.87    06:41:00   \n",
       "32685     30.43       101                   83.59   3.37    06:41:00   \n",
       "\n",
       "      TimeSunSet  \n",
       "0       18:13:00  \n",
       "1       18:13:00  \n",
       "2       18:13:00  \n",
       "3       18:13:00  \n",
       "4       18:13:00  \n",
       "...          ...  \n",
       "32681   17:42:00  \n",
       "32682   17:42:00  \n",
       "32683   17:42:00  \n",
       "32684   17:42:00  \n",
       "32685   17:42:00  \n",
       "\n",
       "[32686 rows x 11 columns]"
      ]
     },
     "execution_count": 2,
     "metadata": {},
     "output_type": "execute_result"
    }
   ],
   "source": [
    "df = pd.read_csv('SolarPrediction.csv')\n",
    "df"
   ]
  },
  {
   "cell_type": "code",
   "execution_count": 3,
   "metadata": {},
   "outputs": [
    {
     "data": {
      "text/html": [
       "<div>\n",
       "<style scoped>\n",
       "    .dataframe tbody tr th:only-of-type {\n",
       "        vertical-align: middle;\n",
       "    }\n",
       "\n",
       "    .dataframe tbody tr th {\n",
       "        vertical-align: top;\n",
       "    }\n",
       "\n",
       "    .dataframe thead th {\n",
       "        text-align: right;\n",
       "    }\n",
       "</style>\n",
       "<table border=\"1\" class=\"dataframe\">\n",
       "  <thead>\n",
       "    <tr style=\"text-align: right;\">\n",
       "      <th></th>\n",
       "      <th>UNIXTime</th>\n",
       "      <th>DateTime</th>\n",
       "      <th>Time</th>\n",
       "      <th>Radiation</th>\n",
       "      <th>Temperature</th>\n",
       "      <th>Pressure</th>\n",
       "      <th>Humidity</th>\n",
       "      <th>WindDirection(Degrees)</th>\n",
       "      <th>Speed</th>\n",
       "      <th>TimeSunRise</th>\n",
       "      <th>TimeSunSet</th>\n",
       "    </tr>\n",
       "  </thead>\n",
       "  <tbody>\n",
       "    <tr>\n",
       "      <th>7223</th>\n",
       "      <td>1472793006</td>\n",
       "      <td>2016-09-01</td>\n",
       "      <td>19:10:06</td>\n",
       "      <td>2.53</td>\n",
       "      <td>55</td>\n",
       "      <td>30.45</td>\n",
       "      <td>65</td>\n",
       "      <td>155.71</td>\n",
       "      <td>3.37</td>\n",
       "      <td>06:07:00</td>\n",
       "      <td>18:38:00</td>\n",
       "    </tr>\n",
       "    <tr>\n",
       "      <th>7257</th>\n",
       "      <td>1472781308</td>\n",
       "      <td>2016-09-01</td>\n",
       "      <td>15:55:08</td>\n",
       "      <td>628.80</td>\n",
       "      <td>63</td>\n",
       "      <td>30.42</td>\n",
       "      <td>58</td>\n",
       "      <td>1.55</td>\n",
       "      <td>6.75</td>\n",
       "      <td>06:07:00</td>\n",
       "      <td>18:38:00</td>\n",
       "    </tr>\n",
       "    <tr>\n",
       "      <th>7256</th>\n",
       "      <td>1472781606</td>\n",
       "      <td>2016-09-01</td>\n",
       "      <td>16:00:06</td>\n",
       "      <td>596.57</td>\n",
       "      <td>62</td>\n",
       "      <td>30.42</td>\n",
       "      <td>56</td>\n",
       "      <td>81.70</td>\n",
       "      <td>5.62</td>\n",
       "      <td>06:07:00</td>\n",
       "      <td>18:38:00</td>\n",
       "    </tr>\n",
       "    <tr>\n",
       "      <th>7255</th>\n",
       "      <td>1472781907</td>\n",
       "      <td>2016-09-01</td>\n",
       "      <td>16:05:07</td>\n",
       "      <td>577.10</td>\n",
       "      <td>62</td>\n",
       "      <td>30.42</td>\n",
       "      <td>57</td>\n",
       "      <td>53.61</td>\n",
       "      <td>7.87</td>\n",
       "      <td>06:07:00</td>\n",
       "      <td>18:38:00</td>\n",
       "    </tr>\n",
       "    <tr>\n",
       "      <th>7254</th>\n",
       "      <td>1472782211</td>\n",
       "      <td>2016-09-01</td>\n",
       "      <td>16:10:11</td>\n",
       "      <td>573.13</td>\n",
       "      <td>62</td>\n",
       "      <td>30.42</td>\n",
       "      <td>58</td>\n",
       "      <td>14.04</td>\n",
       "      <td>3.37</td>\n",
       "      <td>06:07:00</td>\n",
       "      <td>18:38:00</td>\n",
       "    </tr>\n",
       "    <tr>\n",
       "      <th>...</th>\n",
       "      <td>...</td>\n",
       "      <td>...</td>\n",
       "      <td>...</td>\n",
       "      <td>...</td>\n",
       "      <td>...</td>\n",
       "      <td>...</td>\n",
       "      <td>...</td>\n",
       "      <td>...</td>\n",
       "      <td>...</td>\n",
       "      <td>...</td>\n",
       "      <td>...</td>\n",
       "    </tr>\n",
       "    <tr>\n",
       "      <th>24714</th>\n",
       "      <td>1483206901</td>\n",
       "      <td>2016-12-31</td>\n",
       "      <td>07:55:01</td>\n",
       "      <td>39.30</td>\n",
       "      <td>43</td>\n",
       "      <td>30.31</td>\n",
       "      <td>86</td>\n",
       "      <td>262.51</td>\n",
       "      <td>5.62</td>\n",
       "      <td>06:57:00</td>\n",
       "      <td>17:54:00</td>\n",
       "    </tr>\n",
       "    <tr>\n",
       "      <th>24715</th>\n",
       "      <td>1483206602</td>\n",
       "      <td>2016-12-31</td>\n",
       "      <td>07:50:02</td>\n",
       "      <td>39.51</td>\n",
       "      <td>42</td>\n",
       "      <td>30.31</td>\n",
       "      <td>85</td>\n",
       "      <td>265.53</td>\n",
       "      <td>7.87</td>\n",
       "      <td>06:57:00</td>\n",
       "      <td>17:54:00</td>\n",
       "    </tr>\n",
       "    <tr>\n",
       "      <th>24716</th>\n",
       "      <td>1483206302</td>\n",
       "      <td>2016-12-31</td>\n",
       "      <td>07:45:02</td>\n",
       "      <td>52.87</td>\n",
       "      <td>42</td>\n",
       "      <td>30.31</td>\n",
       "      <td>84</td>\n",
       "      <td>240.48</td>\n",
       "      <td>4.50</td>\n",
       "      <td>06:57:00</td>\n",
       "      <td>17:54:00</td>\n",
       "    </tr>\n",
       "    <tr>\n",
       "      <th>24664</th>\n",
       "      <td>1483221902</td>\n",
       "      <td>2016-12-31</td>\n",
       "      <td>12:05:02</td>\n",
       "      <td>378.41</td>\n",
       "      <td>53</td>\n",
       "      <td>30.33</td>\n",
       "      <td>68</td>\n",
       "      <td>321.95</td>\n",
       "      <td>10.12</td>\n",
       "      <td>06:57:00</td>\n",
       "      <td>17:54:00</td>\n",
       "    </tr>\n",
       "    <tr>\n",
       "      <th>24809</th>\n",
       "      <td>1483178408</td>\n",
       "      <td>2016-12-31</td>\n",
       "      <td>00:00:08</td>\n",
       "      <td>1.21</td>\n",
       "      <td>44</td>\n",
       "      <td>30.33</td>\n",
       "      <td>92</td>\n",
       "      <td>278.07</td>\n",
       "      <td>5.62</td>\n",
       "      <td>06:57:00</td>\n",
       "      <td>17:54:00</td>\n",
       "    </tr>\n",
       "  </tbody>\n",
       "</table>\n",
       "<p>32686 rows × 11 columns</p>\n",
       "</div>"
      ],
      "text/plain": [
       "         UNIXTime   DateTime      Time  Radiation  Temperature  Pressure  \\\n",
       "7223   1472793006 2016-09-01  19:10:06       2.53           55     30.45   \n",
       "7257   1472781308 2016-09-01  15:55:08     628.80           63     30.42   \n",
       "7256   1472781606 2016-09-01  16:00:06     596.57           62     30.42   \n",
       "7255   1472781907 2016-09-01  16:05:07     577.10           62     30.42   \n",
       "7254   1472782211 2016-09-01  16:10:11     573.13           62     30.42   \n",
       "...           ...        ...       ...        ...          ...       ...   \n",
       "24714  1483206901 2016-12-31  07:55:01      39.30           43     30.31   \n",
       "24715  1483206602 2016-12-31  07:50:02      39.51           42     30.31   \n",
       "24716  1483206302 2016-12-31  07:45:02      52.87           42     30.31   \n",
       "24664  1483221902 2016-12-31  12:05:02     378.41           53     30.33   \n",
       "24809  1483178408 2016-12-31  00:00:08       1.21           44     30.33   \n",
       "\n",
       "       Humidity  WindDirection(Degrees)  Speed TimeSunRise TimeSunSet  \n",
       "7223         65                  155.71   3.37    06:07:00   18:38:00  \n",
       "7257         58                    1.55   6.75    06:07:00   18:38:00  \n",
       "7256         56                   81.70   5.62    06:07:00   18:38:00  \n",
       "7255         57                   53.61   7.87    06:07:00   18:38:00  \n",
       "7254         58                   14.04   3.37    06:07:00   18:38:00  \n",
       "...         ...                     ...    ...         ...        ...  \n",
       "24714        86                  262.51   5.62    06:57:00   17:54:00  \n",
       "24715        85                  265.53   7.87    06:57:00   17:54:00  \n",
       "24716        84                  240.48   4.50    06:57:00   17:54:00  \n",
       "24664        68                  321.95  10.12    06:57:00   17:54:00  \n",
       "24809        92                  278.07   5.62    06:57:00   17:54:00  \n",
       "\n",
       "[32686 rows x 11 columns]"
      ]
     },
     "execution_count": 3,
     "metadata": {},
     "output_type": "execute_result"
    }
   ],
   "source": [
    "\n",
    "# Rename 'Data' column to 'DateTime' for clarity\n",
    "df = df.rename(columns={'Data': 'DateTime'})\n",
    "\n",
    "# Convert DateTime to pandas datetime\n",
    "df['DateTime'] = pd.to_datetime(df['DateTime'])\n",
    "\n",
    "# Convert Time column to datetime.time objects for better handling\n",
    "df['Time'] = pd.to_datetime(df['Time'], format='%H:%M:%S').dt.time\n",
    "\n",
    "# Similarly, convert sunrise and sunset times\n",
    "df['TimeSunRise'] = pd.to_datetime(df['TimeSunRise'], format='%H:%M:%S').dt.time\n",
    "df['TimeSunSet'] = pd.to_datetime(df['TimeSunSet'], format='%H:%M:%S').dt.time\n",
    "\n",
    "# Sort by DateTime to ensure proper plotting\n",
    "df = df.sort_values('DateTime')\n",
    "df"
   ]
  },
  {
   "cell_type": "code",
   "execution_count": 4,
   "metadata": {},
   "outputs": [
    {
     "name": "stdout",
     "output_type": "stream",
     "text": [
      "Adding solar elevation proxy feature\n",
      "SolarElevation created for 32686 rows, 100.0% of data\n",
      "Added 'Radiation_is_low' feature (threshold: 1.2000)\n",
      "Added SolarElevation to features\n",
      "Log-transformed Radiation -> Radiation_log\n",
      "Using MinMaxScaler for feature scaling\n",
      "X_train shape: (19596, 24, 17)\n",
      "y_train shape: (19596, 1)\n",
      "X_val shape: (6533, 24, 17)\n",
      "y_val shape: (6533, 1)\n",
      "X_test shape: (6533, 24, 17)\n",
      "y_test shape: (6533, 1)\n",
      "Features used: ['Radiation', 'Temperature', 'Pressure', 'Humidity', 'WindDirection(Degrees)', 'Speed', 'Radiation_is_low', 'SolarElevation', 'SunriseMinutes', 'SunsetMinutes', 'DaylightMinutes', 'TimeSinceSunrise', 'TimeUntilSunset', 'DaylightPosition', 'TimeMinutesSin', 'TimeMinutesCos', 'HourOfDay']\n"
     ]
    }
   ],
   "source": [
    "X_train, X_val, X_test, y_train, y_val, y_test, scalers, feature_cols, transform_info, timestamps_train, timestamps_val, timestamps_test = data_prep.prepare_weather_data(\n",
    "    df, \n",
    "    target_col='Radiation',\n",
    "    window_size=24,  # 24 steps for daily patterns\n",
    "    log_transform=True,\n",
    "    use_solar_elevation=True\n",
    ")"
   ]
  },
  {
   "cell_type": "code",
   "execution_count": 5,
   "metadata": {},
   "outputs": [],
   "source": [
    "X_train, timestamps_train, pca_info = data_prep.pca_transform(X_train, timestamps_train, n_components=5)"
   ]
  },
  {
   "cell_type": "code",
   "execution_count": 6,
   "metadata": {},
   "outputs": [
    {
     "data": {
      "text/plain": [
       "(19596, 24, 5)"
      ]
     },
     "execution_count": 6,
     "metadata": {},
     "output_type": "execute_result"
    }
   ],
   "source": [
    "X_train.shape"
   ]
  },
  {
   "cell_type": "code",
   "execution_count": 7,
   "metadata": {},
   "outputs": [
    {
     "data": {
      "text/plain": [
       "Timestamp('2016-09-01 12:20:08')"
      ]
     },
     "execution_count": 7,
     "metadata": {},
     "output_type": "execute_result"
    }
   ],
   "source": [
    "timestamps_train[0]\n"
   ]
  },
  {
   "cell_type": "code",
   "execution_count": 8,
   "metadata": {},
   "outputs": [],
   "source": [
    "import tdmc\n",
    "# Create and train the TDMC model\n",
    "model = tdmc.SolarTDMC(\n",
    "    n_states=4,\n",
    "    time_slices=24,\n",
    "    #n_components=17,  # Use exactly 5 PCA components\n",
    "    #state_names=['Clear', 'Partly Cloudy', 'Cloudy', 'Night']\n",
    ")"
   ]
  },
  {
   "cell_type": "code",
   "execution_count": 9,
   "metadata": {},
   "outputs": [
    {
     "name": "stdout",
     "output_type": "stream",
     "text": [
      "Input data shape: (19596, 24, 5)\n",
      "Setting n_emissions to: 5\n",
      "Initialized emission_means shape: (4, 5)\n",
      "Initialized emission_covars shape: (4, 5, 5)\n",
      "n_sequences: 19596, sequence_length: 24, n_features: 5\n",
      "Reshaped data shape: (470304, 5)\n",
      "State assignments shape: (470304,)\n",
      "Reshaped state assignments shape: (19596, 24)\n",
      "State 0 data shape: (116943, 5)\n",
      "State 1 data shape: (106560, 5)\n",
      "State 2 data shape: (123453, 5)\n",
      "State 3 data shape: (123348, 5)\n"
     ]
    },
    {
     "ename": "KeyboardInterrupt",
     "evalue": "",
     "output_type": "error",
     "traceback": [
      "\u001b[0;31m---------------------------------------------------------------------------\u001b[0m",
      "\u001b[0;31mKeyboardInterrupt\u001b[0m                         Traceback (most recent call last)",
      "Cell \u001b[0;32mIn[9], line 1\u001b[0m\n\u001b[0;32m----> 1\u001b[0m \u001b[43mmodel\u001b[49m\u001b[38;5;241;43m.\u001b[39;49m\u001b[43mfit\u001b[49m\u001b[43m(\u001b[49m\n\u001b[1;32m      2\u001b[0m \u001b[43m    \u001b[49m\u001b[43mX_train\u001b[49m\u001b[43m,\u001b[49m\n\u001b[1;32m      3\u001b[0m \u001b[43m    \u001b[49m\u001b[43mtimestamps\u001b[49m\u001b[38;5;241;43m=\u001b[39;49m\u001b[43mtimestamps_train\u001b[49m\u001b[43m,\u001b[49m\u001b[43m  \u001b[49m\u001b[38;5;66;43;03m# Your time indices\u001b[39;49;00m\n\u001b[1;32m      4\u001b[0m \u001b[43m    \u001b[49m\u001b[43mmax_iter\u001b[49m\u001b[38;5;241;43m=\u001b[39;49m\u001b[38;5;241;43m100\u001b[39;49m\u001b[43m,\u001b[49m\n\u001b[1;32m      5\u001b[0m \u001b[43m    \u001b[49m\u001b[43mstate_names\u001b[49m\u001b[38;5;241;43m=\u001b[39;49m\u001b[43m[\u001b[49m\u001b[38;5;124;43m'\u001b[39;49m\u001b[38;5;124;43mClear\u001b[39;49m\u001b[38;5;124;43m'\u001b[39;49m\u001b[43m,\u001b[49m\u001b[43m \u001b[49m\u001b[38;5;124;43m'\u001b[39;49m\u001b[38;5;124;43mPartly Cloudy\u001b[39;49m\u001b[38;5;124;43m'\u001b[39;49m\u001b[43m,\u001b[49m\u001b[43m \u001b[49m\u001b[38;5;124;43m'\u001b[39;49m\u001b[38;5;124;43mCloudy\u001b[39;49m\u001b[38;5;124;43m'\u001b[39;49m\u001b[43m,\u001b[49m\u001b[43m \u001b[49m\u001b[38;5;124;43m'\u001b[39;49m\u001b[38;5;124;43mNight\u001b[39;49m\u001b[38;5;124;43m'\u001b[39;49m\u001b[43m]\u001b[49m\u001b[43m  \u001b[49m\u001b[38;5;66;43;03m# Meaningful state names\u001b[39;49;00m\n\u001b[1;32m      6\u001b[0m \u001b[43m)\u001b[49m\n",
      "File \u001b[0;32m~/workspace/github.com/itxtx/solar_prediction/tdmc.py:103\u001b[0m, in \u001b[0;36mSolarTDMC.fit\u001b[0;34m(self, X, timestamps, max_iter, tol, state_names)\u001b[0m\n\u001b[1;32m    100\u001b[0m \u001b[38;5;28mself\u001b[39m\u001b[38;5;241m.\u001b[39m_initialize_parameters(X_scaled, time_indices)\n\u001b[1;32m    102\u001b[0m \u001b[38;5;66;03m# Run Baum-Welch algorithm\u001b[39;00m\n\u001b[0;32m--> 103\u001b[0m \u001b[38;5;28;43mself\u001b[39;49m\u001b[38;5;241;43m.\u001b[39;49m\u001b[43m_baum_welch_update\u001b[49m\u001b[43m(\u001b[49m\u001b[43mX_scaled\u001b[49m\u001b[43m,\u001b[49m\u001b[43m \u001b[49m\u001b[43mtime_indices\u001b[49m\u001b[43m,\u001b[49m\u001b[43m \u001b[49m\u001b[43mmax_iter\u001b[49m\u001b[43m,\u001b[49m\u001b[43m \u001b[49m\u001b[43mtol\u001b[49m\u001b[43m)\u001b[49m\n\u001b[1;32m    105\u001b[0m \u001b[38;5;66;03m# Set state names if provided\u001b[39;00m\n\u001b[1;32m    106\u001b[0m \u001b[38;5;28;01mif\u001b[39;00m state_names \u001b[38;5;129;01mis\u001b[39;00m \u001b[38;5;129;01mnot\u001b[39;00m \u001b[38;5;28;01mNone\u001b[39;00m:\n",
      "File \u001b[0;32m~/workspace/github.com/itxtx/solar_prediction/tdmc.py:314\u001b[0m, in \u001b[0;36mSolarTDMC._baum_welch_update\u001b[0;34m(self, X_scaled, time_indices, max_iter, tol)\u001b[0m\n\u001b[1;32m    311\u001b[0m \u001b[38;5;66;03m# Update covariance with regularization\u001b[39;00m\n\u001b[1;32m    312\u001b[0m diff \u001b[38;5;241m=\u001b[39m X_scaled \u001b[38;5;241m-\u001b[39m \u001b[38;5;28mself\u001b[39m\u001b[38;5;241m.\u001b[39memission_means[s]\n\u001b[1;32m    313\u001b[0m cov \u001b[38;5;241m=\u001b[39m np\u001b[38;5;241m.\u001b[39msum(\n\u001b[0;32m--> 314\u001b[0m     \u001b[43mgamma_s\u001b[49m\u001b[43m[\u001b[49m\u001b[43m:\u001b[49m\u001b[43m,\u001b[49m\u001b[43m \u001b[49m\u001b[43m:\u001b[49m\u001b[43m,\u001b[49m\u001b[43m \u001b[49m\u001b[43mnp\u001b[49m\u001b[38;5;241;43m.\u001b[39;49m\u001b[43mnewaxis\u001b[49m\u001b[43m,\u001b[49m\u001b[43m \u001b[49m\u001b[43mnp\u001b[49m\u001b[38;5;241;43m.\u001b[39;49m\u001b[43mnewaxis\u001b[49m\u001b[43m]\u001b[49m\u001b[43m \u001b[49m\u001b[38;5;241;43m*\u001b[39;49m\u001b[43m \u001b[49m\n\u001b[1;32m    315\u001b[0m \u001b[43m    \u001b[49m\u001b[43mnp\u001b[49m\u001b[38;5;241;43m.\u001b[39;49m\u001b[43meinsum\u001b[49m\u001b[43m(\u001b[49m\u001b[38;5;124;43m'\u001b[39;49m\u001b[38;5;124;43m...i,...j->...ij\u001b[39;49m\u001b[38;5;124;43m'\u001b[39;49m\u001b[43m,\u001b[49m\u001b[43m \u001b[49m\u001b[43mdiff\u001b[49m\u001b[43m,\u001b[49m\u001b[43m \u001b[49m\u001b[43mdiff\u001b[49m\u001b[43m)\u001b[49m,\n\u001b[1;32m    316\u001b[0m     axis\u001b[38;5;241m=\u001b[39m(\u001b[38;5;241m0\u001b[39m, \u001b[38;5;241m1\u001b[39m)\n\u001b[1;32m    317\u001b[0m ) \u001b[38;5;241m/\u001b[39m np\u001b[38;5;241m.\u001b[39msum(gamma_s)\n\u001b[1;32m    319\u001b[0m \u001b[38;5;66;03m# Ensure positive definiteness\u001b[39;00m\n\u001b[1;32m    320\u001b[0m min_eig \u001b[38;5;241m=\u001b[39m np\u001b[38;5;241m.\u001b[39mmin(np\u001b[38;5;241m.\u001b[39mreal(np\u001b[38;5;241m.\u001b[39mlinalg\u001b[38;5;241m.\u001b[39meigvals(cov)))\n",
      "\u001b[0;31mKeyboardInterrupt\u001b[0m: "
     ]
    }
   ],
   "source": [
    "model.fit(\n",
    "    X_train,\n",
    "    timestamps=timestamps_train,  # Your time indices\n",
    "    max_iter=100,\n",
    "    state_names=['Clear', 'Partly Cloudy', 'Cloudy', 'Night']  # Meaningful state names\n",
    ")"
   ]
  },
  {
   "cell_type": "code",
   "execution_count": 10,
   "metadata": {},
   "outputs": [
    {
     "data": {
      "text/plain": [
       "(6533, 24, 17)"
      ]
     },
     "execution_count": 10,
     "metadata": {},
     "output_type": "execute_result"
    }
   ],
   "source": [
    "X_test.shape"
   ]
  },
  {
   "cell_type": "code",
   "execution_count": 11,
   "metadata": {},
   "outputs": [
    {
     "data": {
      "text/plain": [
       "(1, 24, 17)"
      ]
     },
     "execution_count": 11,
     "metadata": {},
     "output_type": "execute_result"
    }
   ],
   "source": [
    "X_test[0:1].shape"
   ]
  },
  {
   "cell_type": "code",
   "execution_count": 12,
   "metadata": {},
   "outputs": [
    {
     "data": {
      "text/plain": [
       "array([Timestamp('2016-12-09 16:20:49'), Timestamp('2016-12-09 16:25:52'),\n",
       "       Timestamp('2016-12-09 16:30:50'), Timestamp('2016-12-09 16:35:50'),\n",
       "       Timestamp('2016-12-09 16:40:43'), Timestamp('2016-12-09 16:45:49'),\n",
       "       Timestamp('2016-12-09 16:50:49'), Timestamp('2016-12-09 16:55:52'),\n",
       "       Timestamp('2016-12-09 17:00:41'), Timestamp('2016-12-09 17:05:49'),\n",
       "       Timestamp('2016-12-09 17:10:54'), Timestamp('2016-12-09 17:15:39'),\n",
       "       Timestamp('2016-12-09 17:20:55'), Timestamp('2016-12-09 17:25:50'),\n",
       "       Timestamp('2016-12-09 17:30:39'), Timestamp('2016-12-09 17:35:50'),\n",
       "       Timestamp('2016-12-09 17:40:40'), Timestamp('2016-12-09 17:45:39'),\n",
       "       Timestamp('2016-12-09 17:50:40'), Timestamp('2016-12-09 17:55:49'),\n",
       "       Timestamp('2016-12-09 18:00:50'), Timestamp('2016-12-09 18:05:52'),\n",
       "       Timestamp('2016-12-09 18:10:40'), Timestamp('2016-12-09 18:15:50')],\n",
       "      dtype=object)"
      ]
     },
     "execution_count": 12,
     "metadata": {},
     "output_type": "execute_result"
    }
   ],
   "source": [
    "timestamps_test[0:24]"
   ]
  },
  {
   "cell_type": "code",
   "execution_count": 13,
   "metadata": {},
   "outputs": [
    {
     "data": {
      "text/plain": [
       "(24, 17)"
      ]
     },
     "execution_count": 13,
     "metadata": {},
     "output_type": "execute_result"
    }
   ],
   "source": [
    "X_last = X_test[0]\n",
    "\n",
    "X_last.shape"
   ]
  },
  {
   "cell_type": "code",
   "execution_count": 14,
   "metadata": {},
   "outputs": [
    {
     "data": {
      "text/plain": [
       "Timestamp('2016-12-09 16:20:49')"
      ]
     },
     "execution_count": 14,
     "metadata": {},
     "output_type": "execute_result"
    }
   ],
   "source": [
    "timestamps_test[0]"
   ]
  },
  {
   "cell_type": "code",
   "execution_count": 19,
   "metadata": {},
   "outputs": [
    {
     "name": "stdout",
     "output_type": "stream",
     "text": [
      "MSE: 0.10\n",
      "RMSE: 0.31\n",
      "MAE: 0.20\n",
      "NRMSE: 0.92\n",
      "MAPE: 80.60%\n"
     ]
    },
    {
     "data": {
      "image/png": "[encoded data removed]",
      "text/plain": [
       "<Figure size 1500x600 with 1 Axes>"
      ]
     },
     "metadata": {},
     "output_type": "display_data"
    }
   ],
   "source": [
    "# Generate forecasts\n",
    "predictions = []\n",
    "lower_bounds = []\n",
    "upper_bounds = []\n",
    "\n",
    "for i in range(len(X_test)):\n",
    "    if i + 24 > len(X_test):\n",
    "        break\n",
    "        \n",
    "    # Get the last 24 hours of observations\n",
    "    last_obs = X_test[i] #(24, nfeatures)\n",
    "    \n",
    "    # Get the last timestamp\n",
    "    last_time = timestamps_test[i] #scalar\n",
    "    \n",
    "    assert last_obs.shape == (24, 17)\n",
    "\n",
    "\n",
    "        # Forecast next step\n",
    "    forecast, confidence_intervals = model.forecast(\n",
    "            last_obs, \n",
    "            last_time, \n",
    "            forecast_horizon=2\n",
    "        )\n",
    "        \n",
    "    predictions.append(forecast[0])  # First step\n",
    "    lower_bounds.append(confidence_intervals[0][0])  # First step, lower bound\n",
    "    upper_bounds.append(confidence_intervals[1][0])  # First step, upper bound\n",
    "\n",
    "\n",
    "# Convert to numpy arrays and ensure float type\n",
    "y_pred = np.array(predictions, dtype=float)\n",
    "lower_bound = np.array(lower_bounds, dtype=float)\n",
    "upper_bound = np.array(upper_bounds, dtype=float)\n",
    "\n",
    "# Ensure all arrays are 1D\n",
    "y_pred = y_pred.flatten()\n",
    "lower_bound = lower_bound.flatten()\n",
    "upper_bound = upper_bound.flatten()\n",
    "\n",
    "# Convert timestamps to numeric values for plotting\n",
    "timestamps_numeric = np.array([ts.timestamp() for ts in timestamps_test[:len(predictions)]])\n",
    "\n",
    "# Visualize results\n",
    "fig = model.plot_prediction_vs_actual(\n",
    "    y_test[:len(predictions)].flatten(),  # Ensure y_test is 1D\n",
    "    y_pred, \n",
    "    timestamps_numeric,  # Use numeric timestamps\n",
    "    confidence_intervals=(lower_bound, upper_bound),\n",
    "    title=\"TDMC Solar Irradiance Prediction\"\n",
    ")\n",
    "plt.show()"
   ]
  },
  {
   "cell_type": "code",
   "execution_count": 10,
   "metadata": {},
   "outputs": [
    {
     "ename": "ValueError",
     "evalue": "Model not trained yet",
     "output_type": "error",
     "traceback": [
      "\u001b[0;31m---------------------------------------------------------------------------\u001b[0m",
      "\u001b[0;31mValueError\u001b[0m                                Traceback (most recent call last)",
      "Cell \u001b[0;32mIn[10], line 2\u001b[0m\n\u001b[1;32m      1\u001b[0m \u001b[38;5;66;03m# Visualize hidden states\u001b[39;00m\n\u001b[0;32m----> 2\u001b[0m \u001b[43mmodel\u001b[49m\u001b[38;5;241;43m.\u001b[39;49m\u001b[43mplot_hidden_states\u001b[49m\u001b[43m(\u001b[49m\u001b[43mX_test\u001b[49m\u001b[43m,\u001b[49m\u001b[43m \u001b[49m\u001b[43mtimestamps_test\u001b[49m\u001b[43m)\u001b[49m\n\u001b[1;32m      4\u001b[0m \u001b[38;5;66;03m# Visualize transition probabilities\u001b[39;00m\n\u001b[1;32m      5\u001b[0m model\u001b[38;5;241m.\u001b[39mplot_transition_heatmaps(hours\u001b[38;5;241m=\u001b[39m[\u001b[38;5;241m6\u001b[39m, \u001b[38;5;241m9\u001b[39m, \u001b[38;5;241m12\u001b[39m, \u001b[38;5;241m15\u001b[39m, \u001b[38;5;241m18\u001b[39m, \u001b[38;5;241m21\u001b[39m])\n",
      "File \u001b[0;32m~/workspace/github.com/itxtx/solar_prediction/tdmc.py:804\u001b[0m, in \u001b[0;36mSolarTDMC.plot_hidden_states\u001b[0;34m(self, X_sample, timestamps)\u001b[0m\n\u001b[1;32m    793\u001b[0m \u001b[38;5;250m\u001b[39m\u001b[38;5;124;03m\"\"\"\u001b[39;00m\n\u001b[1;32m    794\u001b[0m \u001b[38;5;124;03mVisualize the hidden states predicted by the TDMC model.\u001b[39;00m\n\u001b[1;32m    795\u001b[0m \u001b[38;5;124;03m\u001b[39;00m\n\u001b[0;32m   (...)\u001b[0m\n\u001b[1;32m    801\u001b[0m \u001b[38;5;124;03m    Corresponding timestamps\u001b[39;00m\n\u001b[1;32m    802\u001b[0m \u001b[38;5;124;03m\"\"\"\u001b[39;00m\n\u001b[1;32m    803\u001b[0m \u001b[38;5;28;01mif\u001b[39;00m \u001b[38;5;129;01mnot\u001b[39;00m \u001b[38;5;28mself\u001b[39m\u001b[38;5;241m.\u001b[39mtrained:\n\u001b[0;32m--> 804\u001b[0m     \u001b[38;5;28;01mraise\u001b[39;00m \u001b[38;5;167;01mValueError\u001b[39;00m(\u001b[38;5;124m\"\u001b[39m\u001b[38;5;124mModel not trained yet\u001b[39m\u001b[38;5;124m\"\u001b[39m)\n\u001b[1;32m    806\u001b[0m \u001b[38;5;66;03m# Predict hidden states\u001b[39;00m\n\u001b[1;32m    807\u001b[0m states \u001b[38;5;241m=\u001b[39m \u001b[38;5;28mself\u001b[39m\u001b[38;5;241m.\u001b[39mpredict_states(X_sample, timestamps)\n",
      "\u001b[0;31mValueError\u001b[0m: Model not trained yet"
     ]
    }
   ],
   "source": [
    "# Visualize hidden states\n",
    "model.plot_hidden_states(X_test, timestamps_test)\n",
    "\n"
   ]
  },
  {
   "cell_type": "code",
   "execution_count": null,
   "metadata": {},
   "outputs": [],
   "source": [
    "# Visualize transition probabilities\n",
    "model.plot_transition_heatmaps(hours=[6, 9, 12, 15, 18, 21])\n"
   ]
  },
  {
   "cell_type": "code",
   "execution_count": null,
   "metadata": {},
   "outputs": [],
   "source": [
    "\n",
    "# Visualize state characteristics\n",
    "model.plot_state_characteristics()\n"
   ]
  },
  {
   "cell_type": "code",
   "execution_count": null,
   "metadata": {},
   "outputs": [],
   "source": [
    "\n",
    "# Evaluate multi-step forecasting\n",
    "model.plot_forecast_horizon_accuracy(X_test, y_test, timestamps_test)"
   ]
  },
  {
   "cell_type": "code",
   "execution_count": 7,
   "metadata": {},
   "outputs": [],
   "source": [
    "# Convert numeric columns\n",
    "numeric_cols = ['UNIXTime', 'Radiation', 'Temperature', 'Pressure', 'Humidity', \n",
    "                   'WindDirection(Degrees)', 'Speed']\n",
    "    \n",
    "for col in numeric_cols:\n",
    "    df[col] = pd.to_numeric(df[col], errors='coerce')\n",
    "    \n",
    "# Convert timestamps\n",
    "df['Timestamp'] = pd.to_datetime(df['Data'] + ' ' + df['Time'])\n",
    "    \n",
    "# Extract hour for time slices\n",
    "df['Hour'] = df['Timestamp'].dt.hour"
   ]
  },
  {
   "cell_type": "code",
   "execution_count": null,
   "metadata": {},
   "outputs": [],
   "source": [
    "import tdmc\n",
    "n_states=3\n",
    "X = df[['Radiation', 'Temperature']].values\n",
    "timestamps = df['Hour'].values\n",
    "# Initialize and train the model\n",
    "model = tdmc.SolarTDMC(n_states=n_states, n_emissions=2, time_slices=24)\n",
    "\n",
    "# Define state names based on radiation levels\n",
    "state_names = [f\"State_{i}\" for i in range(n_states)]\n",
    "\n",
    "# Train the model\n",
    "model.fit(\n",
    "    X, timestamps, \n",
    "    max_iter=50, \n",
    "    state_names=state_names\n",
    ")"
   ]
  },
  {
   "cell_type": "code",
   "execution_count": null,
   "metadata": {},
   "outputs": [],
   "source": [
    "from datetime import datetime, timedelta\n",
    "def generate_forecast(model, df, forecast_horizon=24):\n",
    "    \"\"\"Generate a forecast using the trained TDMC model.\"\"\"\n",
    "    \n",
    "    # Use the last observation as the starting point\n",
    "    last_obs = df[['Radiation', 'Temperature']].values[-1]\n",
    "    last_hour = df['Hour'].values[-1]\n",
    "    \n",
    "    # Generate forecast\n",
    "    forecasts, (conf_lower, conf_upper) = model.forecast(\n",
    "        last_obs, last_hour, forecast_horizon\n",
    "    )\n",
    "    \n",
    "    # Create timestamp range for forecast\n",
    "    if len(df) > 0:\n",
    "        last_timestamp = pd.to_datetime(df['Data'].iloc[-1] + ' ' + df['Time'].iloc[-1])\n",
    "        forecast_times = [last_timestamp + timedelta(hours=i+1) for i in range(forecast_horizon)]\n",
    "    else:\n",
    "        # Create default timestamps if dataframe is empty\n",
    "        start_time = datetime.now()\n",
    "        forecast_times = [start_time + timedelta(hours=i+1) for i in range(forecast_horizon)]\n",
    "    \n",
    "    # Create forecast dataframe\n",
    "    forecast_df = pd.DataFrame({\n",
    "        'Timestamp': forecast_times,\n",
    "        'Hour': [t.hour for t in forecast_times],\n",
    "        'Forecasted_Radiation': forecasts[:, 0],\n",
    "        'Forecasted_Temperature': forecasts[:, 1],\n",
    "        'Radiation_Lower_CI': conf_lower[:, 0],\n",
    "        'Radiation_Upper_CI': conf_upper[:, 0],\n",
    "        'Temperature_Lower_CI': conf_lower[:, 1],\n",
    "        'Temperature_Upper_CI': conf_upper[:, 1]\n",
    "    })\n",
    "    \n",
    "    return forecast_df\n",
    "\n",
    "forecast_df = generate_forecast(model, df, forecast_horizon=24) \n",
    "    \n"
   ]
  },
  {
   "cell_type": "code",
   "execution_count": null,
   "metadata": {},
   "outputs": [],
   "source": [
    "forecast_df"
   ]
  },
  {
   "cell_type": "code",
   "execution_count": 20,
   "metadata": {},
   "outputs": [],
   "source": [
    "def plot_forecast(forecast_df):\n",
    "    \"\"\"Plot the forecasted radiation and temperature.\"\"\"\n",
    "    \n",
    "    # Create figure with two subplots\n",
    "    fig, (ax1, ax2) = plt.subplots(2, 1, figsize=(12, 10))\n",
    "    \n",
    "    # Plot radiation forecast\n",
    "    ax1.plot(forecast_df['Timestamp'], forecast_df['Forecasted_Radiation'], 'b-', label='Forecasted Radiation')\n",
    "    ax1.fill_between(\n",
    "        forecast_df['Timestamp'],\n",
    "        forecast_df['Radiation_Lower_CI'],\n",
    "        forecast_df['Radiation_Upper_CI'],\n",
    "        alpha=0.3, color='b', label='95% Confidence Interval'\n",
    "    )\n",
    "    ax1.set_title('Radiation Forecast')\n",
    "    ax1.set_xlabel('Time')\n",
    "    ax1.set_ylabel('Radiation')\n",
    "    ax1.legend()\n",
    "    ax1.grid(True)\n",
    "    \n",
    "    # Plot temperature forecast\n",
    "    ax2.plot(forecast_df['Timestamp'], forecast_df['Forecasted_Temperature'], 'r-', label='Forecasted Temperature')\n",
    "    ax2.fill_between(\n",
    "        forecast_df['Timestamp'],\n",
    "        forecast_df['Temperature_Lower_CI'],\n",
    "        forecast_df['Temperature_Upper_CI'],\n",
    "        alpha=0.3, color='r', label='95% Confidence Interval'\n",
    "    )\n",
    "    ax2.set_title('Temperature Forecast')\n",
    "    ax2.set_xlabel('Time')\n",
    "    ax2.set_ylabel('Temperature (°F)')\n",
    "    ax2.legend()\n",
    "    ax2.grid(True)\n",
    "    \n",
    "    plt.tight_layout()\n",
    "    return fig\n"
   ]
  },
  {
   "cell_type": "code",
   "execution_count": null,
   "metadata": {},
   "outputs": [],
   "source": [
    "fig = plot_forecast(forecast_df)\n",
    "plt.show()"
   ]
  },
  {
   "cell_type": "code",
   "execution_count": null,
   "metadata": {},
   "outputs": [],
   "source": [
    "    # Test the Markov property\n",
    "markov_test = tdmc.plot_\n",
    "print(f\"\\nMarkov Property Test: {markov_test['result']}\")\n",
    "print(f\"Message: {markov_test['message']}\")\n",
    "    \n"
   ]
  },
  {
   "cell_type": "code",
   "execution_count": null,
   "metadata": {},
   "outputs": [],
   "source": [
    "# Plot the transition matrix\n",
    "tdmc.plot_transition_matrix()\n",
    "    \n"
   ]
  },
  {
   "cell_type": "code",
   "execution_count": null,
   "metadata": {},
   "outputs": [],
   "source": [
    "# Plot state distributions for the first two features\n",
    "tdmc.plot_state_distributions([0, 1])"
   ]
  }
 ],
 "metadata": {
  "kernelspec": {
   "display_name": "torch-gpu-2",
   "language": "python",
   "name": "python3"
  },
  "language_info": {
   "codemirror_mode": {
    "name": "ipython",
    "version": 3
   },
   "file_extension": ".py",
   "mimetype": "text/x-python",
   "name": "python",
   "nbconvert_exporter": "python",
   "pygments_lexer": "ipython3",
   "version": "3.9.16"
  }
 },
 "nbformat": 4,
 "nbformat_minor": 2
}
